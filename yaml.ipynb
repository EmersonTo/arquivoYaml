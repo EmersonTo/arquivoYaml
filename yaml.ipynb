{
 "cells": [
  {
   "cell_type": "code",
   "execution_count": 1,
   "metadata": {
    "colab": {
     "base_uri": "https://localhost:8080/"
    },
    "id": "AT16Kk40Vlia",
    "outputId": "724b2d3e-ac9f-45e7-b758-bab264868466"
   },
   "outputs": [
    {
     "name": "stdout",
     "output_type": "stream",
     "text": [
      "Requirement already satisfied: PyYAML in c:\\users\\emerson\\anaconda3\\lib\\site-packages (6.0)\n",
      "Note: you may need to restart the kernel to use updated packages.\n"
     ]
    }
   ],
   "source": [
    "pip install -U PyYAML"
   ]
  },
  {
   "cell_type": "code",
   "execution_count": 2,
   "metadata": {
    "colab": {
     "base_uri": "https://localhost:8080/"
    },
    "id": "kPPdmKUgW8ME",
    "outputId": "0f4d4ccf-05fc-4d28-b4b5-e2123d01f17e"
   },
   "outputs": [
    {
     "name": "stderr",
     "output_type": "stream",
     "text": [
      "'pip3.7' não é reconhecido como um comando interno\n",
      "ou externo, um programa operável ou um arquivo em lotes.\n"
     ]
    }
   ],
   "source": [
    "!pip3.7 install pyyaml"
   ]
  },
  {
   "cell_type": "code",
   "execution_count": 3,
   "metadata": {
    "id": "8ZBlBDQiV2SE"
   },
   "outputs": [],
   "source": [
    "from requests import get\n",
    "from bs4 import BeautifulSoup\n",
    "from yaml import load, FullLoader,dump\n",
    "import re \n",
    "import numpy as np\n"
   ]
  },
  {
   "cell_type": "code",
   "execution_count": 4,
   "metadata": {
    "id": "k7YfQJi-YCyz"
   },
   "outputs": [],
   "source": [
    "resposta = get('https://www.w3schools.io/file/yaml-sample-example/')"
   ]
  },
  {
   "cell_type": "code",
   "execution_count": 5,
   "metadata": {
    "id": "JSwRYvMPZBwl"
   },
   "outputs": [],
   "source": [
    "tags = BeautifulSoup(resposta.text,'html5lib')"
   ]
  },
  {
   "cell_type": "code",
   "execution_count": 6,
   "metadata": {
    "id": "Vi3x0pNsi8Lo"
   },
   "outputs": [],
   "source": [
    "yaml = []\n",
    "spans = tags.find(\"code\",attrs={\"class\" : \"language-Yaml\"})"
   ]
  },
  {
   "cell_type": "code",
   "execution_count": 7,
   "metadata": {
    "id": "tMsQ1Av1aDDx"
   },
   "outputs": [],
   "source": [
    "for span in spans:\n",
    "   try:\n",
    "    yaml.append(span.text)\n",
    "   except Exception:\n",
    "    pass\n"
   ]
  },
  {
   "cell_type": "code",
   "execution_count": 8,
   "metadata": {
    "colab": {
     "base_uri": "https://localhost:8080/"
    },
    "id": "ksNNBhIZpAB0",
    "outputId": "0b0392a3-7915-44ec-ce58-89d74f5d6be1"
   },
   "outputs": [
    {
     "data": {
      "text/plain": [
       "['\\n',\n",
       " '',\n",
       " '---',\n",
       " '  ',\n",
       " '# yaml document begining',\n",
       " '\\n',\n",
       " '',\n",
       " '# comment syntax',\n",
       " '\\n',\n",
       " '\\n',\n",
       " '',\n",
       " '# basic syntax - key and value separated by colon and space before the value',\n",
       " '\\n',\n",
       " '',\n",
       " 'key',\n",
       " ':',\n",
       " ' ',\n",
       " 'value',\n",
       " '\\n',\n",
       " '\\n',\n",
       " '',\n",
       " '# Scalar data types',\n",
       " '\\n',\n",
       " '',\n",
       " 'integerValue',\n",
       " ':',\n",
       " ' ',\n",
       " '1',\n",
       " '                     ',\n",
       " '# integer value',\n",
       " '\\n',\n",
       " '',\n",
       " 'floatingValue',\n",
       " ':',\n",
       " ' ',\n",
       " '1',\n",
       " '                     ',\n",
       " '# floating vale',\n",
       " '\\n',\n",
       " '\\n',\n",
       " '',\n",
       " 'stringValue',\n",
       " ':',\n",
       " ' ',\n",
       " '\"456\"',\n",
       " '                   ',\n",
       " '# string with double quotes',\n",
       " '\\n',\n",
       " '',\n",
       " 'stringValue',\n",
       " ':',\n",
       " ' ',\n",
       " \"'abc'\",\n",
       " '                  ',\n",
       " '# string with single quotes',\n",
       " '\\n',\n",
       " '',\n",
       " 'stringValue',\n",
       " ':',\n",
       " ' ',\n",
       " 'wer                  ',\n",
       " ' ',\n",
       " '# string without quotes',\n",
       " '\\n',\n",
       " '\\n',\n",
       " '',\n",
       " 'booleanValue:true                  ',\n",
       " ' ',\n",
       " '# boolean values - true or false',\n",
       " '\\n',\n",
       " '\\n',\n",
       " '\\n',\n",
       " '',\n",
       " '# Multiline string with literal block syntax -preserved new lines',\n",
       " '\\n',\n",
       " '',\n",
       " 'string1',\n",
       " ':',\n",
       " ' ',\n",
       " '|',\n",
       " '\\n',\n",
       " '   Line1\\n',\n",
       " '   line2\\n',\n",
       " '   \"line3\"',\n",
       " '   \\n',\n",
       " '  ',\n",
       " 'line4',\n",
       " '\\n',\n",
       " '\\n',\n",
       " '',\n",
       " '# Multiline strings with folded block syntax - new lines are not preserved, leading and trailing spaces are ignore',\n",
       " '\\n',\n",
       " '  ',\n",
       " 'string1',\n",
       " ':',\n",
       " ' ',\n",
       " '>',\n",
       " '\\n',\n",
       " '   Line1\\n',\n",
       " '   line2\\n',\n",
       " '   \"line3\"',\n",
       " '   \\n',\n",
       " '  ',\n",
       " 'line4',\n",
       " '\\n',\n",
       " '',\n",
       " '# Collection sequence data types',\n",
       " '\\n',\n",
       " ' ',\n",
       " '# sequence arraylist example',\n",
       " '\\n',\n",
       " ' ',\n",
       " '- ',\n",
       " 'One',\n",
       " '\\n',\n",
       " ' ',\n",
       " '- ',\n",
       " 'two',\n",
       " '\\n',\n",
       " ' ',\n",
       " '- ',\n",
       " 'Three',\n",
       " '\\n',\n",
       " '\\n',\n",
       " '  ',\n",
       " '# another way of sequence  syntax example',\n",
       " '\\n',\n",
       " '  ',\n",
       " '[',\n",
       " 'one, two , three]',\n",
       " '\\n',\n",
       " '\\n',\n",
       " '',\n",
       " '### dictionary',\n",
       " '\\n',\n",
       " '  ',\n",
       " 'mysqldatabase',\n",
       " ':',\n",
       " '\\n',\n",
       " '    ',\n",
       " 'hostname',\n",
       " ':',\n",
       " ' ',\n",
       " 'localhost',\n",
       " '\\n',\n",
       " '    ',\n",
       " 'port',\n",
       " ':',\n",
       " ' ',\n",
       " '3012',\n",
       " '\\n',\n",
       " '    ',\n",
       " 'username',\n",
       " ':',\n",
       " ' ',\n",
       " 'root',\n",
       " '\\n',\n",
       " '    ',\n",
       " 'password',\n",
       " ':',\n",
       " ' ',\n",
       " 'root',\n",
       " '\\n']"
      ]
     },
     "execution_count": 8,
     "metadata": {},
     "output_type": "execute_result"
    }
   ],
   "source": [
    "yaml"
   ]
  },
  {
   "cell_type": "code",
   "execution_count": 9,
   "metadata": {
    "id": "pLshxYNUz8Pv"
   },
   "outputs": [],
   "source": [
    "yaml2 = []\n",
    "for y in yaml:\n",
    "  if re.match(r'#',y):\n",
    "    pass\n",
    "  else:\n",
    "    yaml2.append(y)"
   ]
  },
  {
   "cell_type": "code",
   "execution_count": 10,
   "metadata": {
    "colab": {
     "base_uri": "https://localhost:8080/"
    },
    "id": "c6HSSSkt4ODF",
    "outputId": "47a3ab41-f50a-4282-faf0-c0851255296e"
   },
   "outputs": [
    {
     "data": {
      "text/plain": [
       "['---',\n",
       " '  ',\n",
       " 'key',\n",
       " ':',\n",
       " ' ',\n",
       " 'value',\n",
       " 'integerValue',\n",
       " ':',\n",
       " ' ',\n",
       " '1',\n",
       " '                     ',\n",
       " 'floatingValue',\n",
       " ':',\n",
       " ' ',\n",
       " '1',\n",
       " '                     ',\n",
       " 'stringValue',\n",
       " ':',\n",
       " ' ',\n",
       " '\"456\"',\n",
       " '                   ',\n",
       " 'stringValue',\n",
       " ':',\n",
       " ' ',\n",
       " \"'abc'\",\n",
       " '                  ',\n",
       " 'stringValue',\n",
       " ':',\n",
       " ' ',\n",
       " 'wer                  ',\n",
       " ' ',\n",
       " 'booleanValue:true                  ',\n",
       " ' ',\n",
       " 'string1',\n",
       " ':',\n",
       " ' ',\n",
       " '|',\n",
       " '   Line1\\n',\n",
       " '   line2\\n',\n",
       " '   \"line3\"',\n",
       " '   \\n',\n",
       " '  ',\n",
       " 'line4',\n",
       " '  ',\n",
       " 'string1',\n",
       " ':',\n",
       " ' ',\n",
       " '>',\n",
       " '   Line1\\n',\n",
       " '   line2\\n',\n",
       " '   \"line3\"',\n",
       " '   \\n',\n",
       " '  ',\n",
       " 'line4',\n",
       " ' ',\n",
       " ' ',\n",
       " '- ',\n",
       " 'One',\n",
       " ' ',\n",
       " '- ',\n",
       " 'two',\n",
       " ' ',\n",
       " '- ',\n",
       " 'Three',\n",
       " '  ',\n",
       " '  ',\n",
       " '[',\n",
       " 'one, two , three]',\n",
       " '  ',\n",
       " 'mysqldatabase',\n",
       " ':',\n",
       " '    ',\n",
       " 'hostname',\n",
       " ':',\n",
       " ' ',\n",
       " 'localhost',\n",
       " '    ',\n",
       " 'port',\n",
       " ':',\n",
       " ' ',\n",
       " '3012',\n",
       " '    ',\n",
       " 'username',\n",
       " ':',\n",
       " ' ',\n",
       " 'root',\n",
       " '    ',\n",
       " 'password',\n",
       " ':',\n",
       " ' ',\n",
       " 'root']"
      ]
     },
     "execution_count": 10,
     "metadata": {},
     "output_type": "execute_result"
    }
   ],
   "source": [
    "yaml3 = []\n",
    "for y in yaml2:\n",
    "  if re.match(r'$',y):\n",
    "    pass\n",
    "  else:\n",
    "     yaml3.append(y)\n",
    "yaml3"
   ]
  },
  {
   "cell_type": "code",
   "execution_count": 11,
   "metadata": {
    "colab": {
     "base_uri": "https://localhost:8080/"
    },
    "id": "KObKzNv27Nxd",
    "outputId": "1086edf2-8cee-4df4-d517-41cc920335a4"
   },
   "outputs": [
    {
     "data": {
      "text/plain": [
       "['---',\n",
       " '',\n",
       " 'key',\n",
       " ':',\n",
       " '',\n",
       " 'value',\n",
       " 'integerValue',\n",
       " ':',\n",
       " '',\n",
       " '1',\n",
       " '',\n",
       " 'floatingValue',\n",
       " ':',\n",
       " '',\n",
       " '1',\n",
       " '',\n",
       " 'stringValue',\n",
       " ':',\n",
       " '',\n",
       " '\"456\"',\n",
       " '',\n",
       " 'stringValue',\n",
       " ':',\n",
       " '',\n",
       " \"'abc'\",\n",
       " '',\n",
       " 'stringValue',\n",
       " ':',\n",
       " '',\n",
       " 'wer',\n",
       " '',\n",
       " 'booleanValue:true',\n",
       " '',\n",
       " 'string1',\n",
       " ':',\n",
       " '',\n",
       " '|',\n",
       " 'Line1',\n",
       " 'line2',\n",
       " '\"line3\"',\n",
       " '',\n",
       " '',\n",
       " 'line4',\n",
       " '',\n",
       " 'string1',\n",
       " ':',\n",
       " '',\n",
       " '>',\n",
       " 'Line1',\n",
       " 'line2',\n",
       " '\"line3\"',\n",
       " '',\n",
       " '',\n",
       " 'line4',\n",
       " '',\n",
       " '',\n",
       " '-',\n",
       " 'One',\n",
       " '',\n",
       " '-',\n",
       " 'two',\n",
       " '',\n",
       " '-',\n",
       " 'Three',\n",
       " '',\n",
       " '',\n",
       " '[',\n",
       " 'one, two , three]',\n",
       " '',\n",
       " 'mysqldatabase',\n",
       " ':',\n",
       " '',\n",
       " 'hostname',\n",
       " ':',\n",
       " '',\n",
       " 'localhost',\n",
       " '',\n",
       " 'port',\n",
       " ':',\n",
       " '',\n",
       " '3012',\n",
       " '',\n",
       " 'username',\n",
       " ':',\n",
       " '',\n",
       " 'root',\n",
       " '',\n",
       " 'password',\n",
       " ':',\n",
       " '',\n",
       " 'root']"
      ]
     },
     "execution_count": 11,
     "metadata": {},
     "output_type": "execute_result"
    }
   ],
   "source": [
    "yaml4 = []\n",
    "for y in yaml3:\n",
    "  y = y.strip()\n",
    "  if re.match(r' ',y):\n",
    "    print(f\"tamanho = {len(y)} - string {y}\")\n",
    "    ##pass\n",
    "  else:\n",
    "    yaml4.append(y)\n",
    "yaml4"
   ]
  },
  {
   "cell_type": "code",
   "execution_count": 12,
   "metadata": {
    "colab": {
     "base_uri": "https://localhost:8080/"
    },
    "id": "pJe-0QKS710s",
    "outputId": "f3f6e19e-2059-4be9-dc19-5c4af62e2ee6"
   },
   "outputs": [
    {
     "data": {
      "text/plain": [
       "['key',\n",
       " ':',\n",
       " 'value',\n",
       " 'integerValue',\n",
       " ':',\n",
       " '1',\n",
       " 'floatingValue',\n",
       " ':',\n",
       " '1',\n",
       " 'stringValue',\n",
       " ':',\n",
       " '\"456\"',\n",
       " 'stringValue',\n",
       " ':',\n",
       " \"'abc'\",\n",
       " 'stringValue',\n",
       " ':',\n",
       " 'wer',\n",
       " 'booleanValue:true',\n",
       " 'string1',\n",
       " ':',\n",
       " '|',\n",
       " 'Line1',\n",
       " 'line2',\n",
       " '\"line3\"',\n",
       " 'line4',\n",
       " 'string1',\n",
       " ':',\n",
       " '>',\n",
       " 'Line1',\n",
       " 'line2',\n",
       " '\"line3\"',\n",
       " 'line4',\n",
       " '-',\n",
       " 'One',\n",
       " '-',\n",
       " 'two',\n",
       " '-',\n",
       " 'Three',\n",
       " '[',\n",
       " 'one, two , three]',\n",
       " 'mysqldatabase',\n",
       " ':',\n",
       " 'hostname',\n",
       " ':',\n",
       " 'localhost',\n",
       " 'port',\n",
       " ':',\n",
       " '3012',\n",
       " 'username',\n",
       " ':',\n",
       " 'root',\n",
       " 'password',\n",
       " ':',\n",
       " 'root']"
      ]
     },
     "execution_count": 12,
     "metadata": {},
     "output_type": "execute_result"
    }
   ],
   "source": [
    "yaml5 = []\n",
    "for y in yaml4:\n",
    "  y = y.strip()\n",
    "  if re.match(r'---',y) or len(y) == 0 :\n",
    "    \n",
    "    pass\n",
    "  else:\n",
    "    yaml5.append(y)\n",
    "yaml5"
   ]
  },
  {
   "cell_type": "code",
   "execution_count": 13,
   "metadata": {
    "colab": {
     "base_uri": "https://localhost:8080/"
    },
    "id": "wpyEfD3cXuUZ",
    "outputId": "4816859c-57ca-4962-c192-1f92e5978cae"
   },
   "outputs": [
    {
     "data": {
      "text/plain": [
       "['key',\n",
       " ':',\n",
       " 'value',\n",
       " 'integerValue',\n",
       " ':',\n",
       " '1',\n",
       " 'floatingValue',\n",
       " ':',\n",
       " '1',\n",
       " 'stringValue',\n",
       " ':',\n",
       " '\"456\"',\n",
       " 'stringValue',\n",
       " ':',\n",
       " \"'abc'\",\n",
       " 'stringValue',\n",
       " ':',\n",
       " 'wer',\n",
       " 'booleanValue:true',\n",
       " 'string1',\n",
       " ':',\n",
       " 'Line1',\n",
       " 'line2',\n",
       " '\"line3\"',\n",
       " 'line4',\n",
       " 'string1',\n",
       " ':',\n",
       " 'Line1',\n",
       " 'line2',\n",
       " '\"line3\"',\n",
       " 'line4',\n",
       " '-',\n",
       " 'One',\n",
       " '-',\n",
       " 'two',\n",
       " '-',\n",
       " 'Three',\n",
       " '[',\n",
       " 'one, two , three]',\n",
       " 'mysqldatabase',\n",
       " ':',\n",
       " 'hostname',\n",
       " ':',\n",
       " 'localhost',\n",
       " 'port',\n",
       " ':',\n",
       " '3012',\n",
       " 'username',\n",
       " ':',\n",
       " 'root',\n",
       " 'password',\n",
       " ':',\n",
       " 'root']"
      ]
     },
     "execution_count": 13,
     "metadata": {},
     "output_type": "execute_result"
    }
   ],
   "source": [
    "yaml6 = []\n",
    "for y in yaml5:\n",
    "   if re.match(r'\\|',y) or re.match(r'\\>',y):\n",
    "     pass\n",
    "   else:\n",
    "     yaml6.append(y)\n",
    "yaml6"
   ]
  },
  {
   "cell_type": "code",
   "execution_count": 14,
   "metadata": {
    "id": "z9Uss-cIatGp"
   },
   "outputs": [],
   "source": [
    "anterior = ''\n",
    "atual = ''\n",
    "keys = []\n",
    "value= []\n",
    "for palavra in yaml6:\n",
    "  anterior = atual\n",
    "  atual = palavra\n",
    "  if atual == ':':\n",
    "    keys.append(anterior)\n",
    "  elif anterior == ':':\n",
    "    value.append(atual)"
   ]
  },
  {
   "cell_type": "code",
   "execution_count": 15,
   "metadata": {
    "id": "xvN9V5MUfN0O"
   },
   "outputs": [],
   "source": [
    "dicionario = dict(zip(keys,value))"
   ]
  },
  {
   "cell_type": "code",
   "execution_count": 16,
   "metadata": {
    "colab": {
     "base_uri": "https://localhost:8080/"
    },
    "id": "EQRzhmewfaZ1",
    "outputId": "6b93910a-3608-4947-e4dd-9de53930cf1e"
   },
   "outputs": [
    {
     "data": {
      "text/plain": [
       "{'key': 'value',\n",
       " 'integerValue': '1',\n",
       " 'floatingValue': '1',\n",
       " 'stringValue': 'wer',\n",
       " 'string1': 'Line1',\n",
       " 'mysqldatabase': 'hostname',\n",
       " 'hostname': 'localhost',\n",
       " 'port': '3012',\n",
       " 'username': 'root',\n",
       " 'password': 'root'}"
      ]
     },
     "execution_count": 16,
     "metadata": {},
     "output_type": "execute_result"
    }
   ],
   "source": [
    "dicionario"
   ]
  },
  {
   "cell_type": "code",
   "execution_count": 23,
   "metadata": {
    "colab": {
     "base_uri": "https://localhost:8080/",
     "height": 190
    },
    "id": "OqH00MI6gF6G",
    "outputId": "0a891626-31d4-41a0-9ced-0d502303c6dc"
   },
   "outputs": [],
   "source": [
    "with open(\"nova_yaml.yml\", \"w\") as file:\n",
    "  dump(dicionario,file)"
   ]
  },
  {
   "cell_type": "code",
   "execution_count": 24,
   "metadata": {},
   "outputs": [],
   "source": [
    "with open(\"nova_yaml.yml\") as file:\n",
    "    yaml_file = load(file, Loader=FullLoader)"
   ]
  },
  {
   "cell_type": "code",
   "execution_count": 25,
   "metadata": {},
   "outputs": [
    {
     "data": {
      "text/plain": [
       "{'floatingValue': '1',\n",
       " 'hostname': 'localhost',\n",
       " 'integerValue': '1',\n",
       " 'key': 'value',\n",
       " 'mysqldatabase': 'hostname',\n",
       " 'password': 'root',\n",
       " 'port': '3012',\n",
       " 'string1': 'Line1',\n",
       " 'stringValue': 'wer',\n",
       " 'username': 'root'}"
      ]
     },
     "execution_count": 25,
     "metadata": {},
     "output_type": "execute_result"
    }
   ],
   "source": [
    "yaml_file"
   ]
  },
  {
   "cell_type": "code",
   "execution_count": null,
   "metadata": {},
   "outputs": [],
   "source": []
  }
 ],
 "metadata": {
  "colab": {
   "name": "yaml.ipynb",
   "provenance": []
  },
  "kernelspec": {
   "display_name": "Python 3 (ipykernel)",
   "language": "python",
   "name": "python3"
  },
  "language_info": {
   "codemirror_mode": {
    "name": "ipython",
    "version": 3
   },
   "file_extension": ".py",
   "mimetype": "text/x-python",
   "name": "python",
   "nbconvert_exporter": "python",
   "pygments_lexer": "ipython3",
   "version": "3.9.7"
  }
 },
 "nbformat": 4,
 "nbformat_minor": 1
}
